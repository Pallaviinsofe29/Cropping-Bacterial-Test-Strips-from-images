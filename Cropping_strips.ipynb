{
 "cells": [
  {
   "cell_type": "code",
   "execution_count": 1,
   "metadata": {},
   "outputs": [],
   "source": [
    "import numpy as np\n",
    "import cv2\n",
    "import matplotlib.pyplot as plt\n",
    "%matplotlib inline\n",
    "from glob import glob"
   ]
  },
  {
   "cell_type": "code",
   "execution_count": 58,
   "metadata": {},
   "outputs": [],
   "source": [
    "def cropping(path):\n",
    "\n",
    "    for ii in range(len(path)):\n",
    "        \n",
    "        img = cv2.imread(path[ii])\n",
    "        gray = cv2.cvtColor(img,cv2.COLOR_BGR2GRAY)\n",
    "        blur = cv2.GaussianBlur(gray, (7,7),3)\n",
    "        _,th3 = cv2.threshold(blur, 127,255,cv2.THRESH_BINARY)\n",
    "        im2, contours, hierarchy = cv2.findContours(th3,cv2.RETR_TREE,cv2.CHAIN_APPROX_SIMPLE)\n",
    "        areas = [cv2.contourArea(c) for c in contours]\n",
    "        ix = np.where(np.array(areas) > 300)[0]\n",
    "        result = np.array([1,0,0,0,0,0,0,0,0,0])\n",
    "        for i in ix:\n",
    "            cnt = contours[i]\n",
    "            xr,yr,wr,hr = cv2.boundingRect(cnt)\n",
    "            if xr< 20 :\n",
    "                xr = 25\n",
    "\n",
    "\n",
    "            if yr < 20:\n",
    "                yr = 25\n",
    "\n",
    "\n",
    "            cv2.rectangle(img,(xr-10,yr-10),(xr+wr+10,yr+hr+10), (0,255,0),2)\n",
    "            roi = img[yr-20:yr+hr+20, xr-20:xr+wr+20]\n",
    "\n",
    "        cv2.imwrite('./croped_samples/box/'+'strip_box_'+str(ii)+'.png', img)\n",
    "        cv2.imwrite('./croped_samples/'+'strip_'+str(ii)+'.png', roi)\n",
    "        \n",
    "        "
   ]
  },
  {
   "cell_type": "code",
   "execution_count": 59,
   "metadata": {},
   "outputs": [],
   "source": [
    "data_path = glob('./images_testsamples/*')"
   ]
  },
  {
   "cell_type": "code",
   "execution_count": 60,
   "metadata": {},
   "outputs": [],
   "source": [
    "cropping(data_path)"
   ]
  },
  {
   "cell_type": "code",
   "execution_count": null,
   "metadata": {},
   "outputs": [],
   "source": []
  }
 ],
 "metadata": {
  "kernelspec": {
   "display_name": "Python 3",
   "language": "python",
   "name": "python3"
  },
  "language_info": {
   "codemirror_mode": {
    "name": "ipython",
    "version": 3
   },
   "file_extension": ".py",
   "mimetype": "text/x-python",
   "name": "python",
   "nbconvert_exporter": "python",
   "pygments_lexer": "ipython3",
   "version": "3.6.4"
  }
 },
 "nbformat": 4,
 "nbformat_minor": 2
}
